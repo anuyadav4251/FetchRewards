{
 "cells": [
  {
   "cell_type": "code",
   "execution_count": 1,
   "metadata": {},
   "outputs": [],
   "source": [
    "import pandas as pd"
   ]
  },
  {
   "cell_type": "markdown",
   "metadata": {},
   "source": [
    "# Loading the data"
   ]
  },
  {
   "cell_type": "code",
   "execution_count": 5,
   "metadata": {},
   "outputs": [],
   "source": [
    "users = pd.read_csv(\"users.csv\")"
   ]
  },
  {
   "cell_type": "code",
   "execution_count": 44,
   "metadata": {},
   "outputs": [
    {
     "data": {
      "text/plain": [
       "(495, 7)"
      ]
     },
     "execution_count": 44,
     "metadata": {},
     "output_type": "execute_result"
    }
   ],
   "source": [
    "users.shape"
   ]
  },
  {
   "cell_type": "code",
   "execution_count": 11,
   "metadata": {},
   "outputs": [
    {
     "name": "stdout",
     "output_type": "stream",
     "text": [
      "<class 'pandas.core.frame.DataFrame'>\n",
      "RangeIndex: 495 entries, 0 to 494\n",
      "Data columns (total 7 columns):\n",
      " #   Column             Non-Null Count  Dtype  \n",
      "---  ------             --------------  -----  \n",
      " 0   _id.$oid           495 non-null    object \n",
      " 1   active             495 non-null    bool   \n",
      " 2   createdDate.$date  495 non-null    int64  \n",
      " 3   lastLogin.$date    433 non-null    float64\n",
      " 4   role               495 non-null    object \n",
      " 5   signUpSource       447 non-null    object \n",
      " 6   state              439 non-null    object \n",
      "dtypes: bool(1), float64(1), int64(1), object(4)\n",
      "memory usage: 23.8+ KB\n"
     ]
    }
   ],
   "source": [
    "users.info()"
   ]
  },
  {
   "cell_type": "markdown",
   "metadata": {},
   "source": [
    "Conclusion: lastLogin, signUpSource,state have null values"
   ]
  },
  {
   "cell_type": "code",
   "execution_count": 13,
   "metadata": {},
   "outputs": [
    {
     "data": {
      "text/html": [
       "<div>\n",
       "<style scoped>\n",
       "    .dataframe tbody tr th:only-of-type {\n",
       "        vertical-align: middle;\n",
       "    }\n",
       "\n",
       "    .dataframe tbody tr th {\n",
       "        vertical-align: top;\n",
       "    }\n",
       "\n",
       "    .dataframe thead th {\n",
       "        text-align: right;\n",
       "    }\n",
       "</style>\n",
       "<table border=\"1\" class=\"dataframe\">\n",
       "  <thead>\n",
       "    <tr style=\"text-align: right;\">\n",
       "      <th></th>\n",
       "      <th>createdDate.$date</th>\n",
       "      <th>lastLogin.$date</th>\n",
       "    </tr>\n",
       "  </thead>\n",
       "  <tbody>\n",
       "    <tr>\n",
       "      <th>count</th>\n",
       "      <td>4.950000e+02</td>\n",
       "      <td>4.330000e+02</td>\n",
       "    </tr>\n",
       "    <tr>\n",
       "      <th>mean</th>\n",
       "      <td>1.596678e+12</td>\n",
       "      <td>1.611388e+12</td>\n",
       "    </tr>\n",
       "    <tr>\n",
       "      <th>std</th>\n",
       "      <td>4.402970e+10</td>\n",
       "      <td>4.430109e+09</td>\n",
       "    </tr>\n",
       "    <tr>\n",
       "      <th>min</th>\n",
       "      <td>1.418999e+12</td>\n",
       "      <td>1.525714e+12</td>\n",
       "    </tr>\n",
       "    <tr>\n",
       "      <th>25%</th>\n",
       "      <td>1.609789e+12</td>\n",
       "      <td>1.610130e+12</td>\n",
       "    </tr>\n",
       "    <tr>\n",
       "      <th>50%</th>\n",
       "      <td>1.610569e+12</td>\n",
       "      <td>1.611237e+12</td>\n",
       "    </tr>\n",
       "    <tr>\n",
       "      <th>75%</th>\n",
       "      <td>1.611596e+12</td>\n",
       "      <td>1.612366e+12</td>\n",
       "    </tr>\n",
       "    <tr>\n",
       "      <th>max</th>\n",
       "      <td>1.613139e+12</td>\n",
       "      <td>1.614963e+12</td>\n",
       "    </tr>\n",
       "  </tbody>\n",
       "</table>\n",
       "</div>"
      ],
      "text/plain": [
       "       createdDate.$date  lastLogin.$date\n",
       "count       4.950000e+02     4.330000e+02\n",
       "mean        1.596678e+12     1.611388e+12\n",
       "std         4.402970e+10     4.430109e+09\n",
       "min         1.418999e+12     1.525714e+12\n",
       "25%         1.609789e+12     1.610130e+12\n",
       "50%         1.610569e+12     1.611237e+12\n",
       "75%         1.611596e+12     1.612366e+12\n",
       "max         1.613139e+12     1.614963e+12"
      ]
     },
     "execution_count": 13,
     "metadata": {},
     "output_type": "execute_result"
    }
   ],
   "source": [
    "users.describe()"
   ]
  },
  {
   "cell_type": "markdown",
   "metadata": {},
   "source": [
    "The createdDate and lastLogin date are of datatype integer and float but the datatype of both has to be Date\n",
    "and value of createdDate,lastLogin are not in the format of date"
   ]
  },
  {
   "cell_type": "code",
   "execution_count": 33,
   "metadata": {},
   "outputs": [
    {
     "data": {
      "text/plain": [
       "166"
      ]
     },
     "execution_count": 33,
     "metadata": {},
     "output_type": "execute_result"
    }
   ],
   "source": [
    "users.isna().sum().sum()"
   ]
  },
  {
   "cell_type": "markdown",
   "metadata": {},
   "source": [
    "There are total of 166 null values in the \"users\" dataset which is around 34% of data missing"
   ]
  },
  {
   "cell_type": "markdown",
   "metadata": {},
   "source": [
    "# Brands"
   ]
  },
  {
   "cell_type": "code",
   "execution_count": 7,
   "metadata": {},
   "outputs": [],
   "source": [
    "brands = pd.read_csv(\"brands.csv\")"
   ]
  },
  {
   "cell_type": "code",
   "execution_count": 45,
   "metadata": {},
   "outputs": [
    {
     "data": {
      "text/plain": [
       "(1167, 9)"
      ]
     },
     "execution_count": 45,
     "metadata": {},
     "output_type": "execute_result"
    }
   ],
   "source": [
    "brands.shape"
   ]
  },
  {
   "cell_type": "code",
   "execution_count": 34,
   "metadata": {},
   "outputs": [
    {
     "data": {
      "text/plain": [
       "35"
      ]
     },
     "execution_count": 34,
     "metadata": {},
     "output_type": "execute_result"
    }
   ],
   "source": [
    "brands.isna().sum().sum()"
   ]
  },
  {
   "cell_type": "markdown",
   "metadata": {},
   "source": [
    "There are 35 null values in Brands data set"
   ]
  },
  {
   "cell_type": "code",
   "execution_count": 38,
   "metadata": {},
   "outputs": [
    {
     "data": {
      "text/html": [
       "<div>\n",
       "<style scoped>\n",
       "    .dataframe tbody tr th:only-of-type {\n",
       "        vertical-align: middle;\n",
       "    }\n",
       "\n",
       "    .dataframe tbody tr th {\n",
       "        vertical-align: top;\n",
       "    }\n",
       "\n",
       "    .dataframe thead th {\n",
       "        text-align: right;\n",
       "    }\n",
       "</style>\n",
       "<table border=\"1\" class=\"dataframe\">\n",
       "  <thead>\n",
       "    <tr style=\"text-align: right;\">\n",
       "      <th></th>\n",
       "      <th>_id.$oid</th>\n",
       "      <th>barcode</th>\n",
       "      <th>category</th>\n",
       "      <th>categoryCode</th>\n",
       "      <th>cpg.$id.$oid</th>\n",
       "      <th>cpg.$ref</th>\n",
       "      <th>name</th>\n",
       "      <th>topBrand</th>\n",
       "      <th>brandCode</th>\n",
       "    </tr>\n",
       "  </thead>\n",
       "  <tbody>\n",
       "    <tr>\n",
       "      <th>0</th>\n",
       "      <td>601ac115be37ce2ead437551</td>\n",
       "      <td>511111019862</td>\n",
       "      <td>Baking</td>\n",
       "      <td>BAKING</td>\n",
       "      <td>601ac114be37ce2ead437550</td>\n",
       "      <td>Cogs</td>\n",
       "      <td>test brand @1612366101024</td>\n",
       "      <td>false</td>\n",
       "      <td>\"\"</td>\n",
       "    </tr>\n",
       "    <tr>\n",
       "      <th>1</th>\n",
       "      <td>601c5460be37ce2ead43755f</td>\n",
       "      <td>511111519928</td>\n",
       "      <td>Beverages</td>\n",
       "      <td>BEVERAGES</td>\n",
       "      <td>5332f5fbe4b03c9a25efd0ba</td>\n",
       "      <td>Cogs</td>\n",
       "      <td>Starbucks</td>\n",
       "      <td>false</td>\n",
       "      <td>STARBUCKS</td>\n",
       "    </tr>\n",
       "    <tr>\n",
       "      <th>2</th>\n",
       "      <td>601ac142be37ce2ead43755d</td>\n",
       "      <td>511111819905</td>\n",
       "      <td>Baking</td>\n",
       "      <td>BAKING</td>\n",
       "      <td>601ac142be37ce2ead437559</td>\n",
       "      <td>Cogs</td>\n",
       "      <td>test brand @1612366146176</td>\n",
       "      <td>false</td>\n",
       "      <td>TEST BRANDCODE @1612366146176</td>\n",
       "    </tr>\n",
       "    <tr>\n",
       "      <th>3</th>\n",
       "      <td>601ac142be37ce2ead43755a</td>\n",
       "      <td>511111519874</td>\n",
       "      <td>Baking</td>\n",
       "      <td>BAKING</td>\n",
       "      <td>601ac142be37ce2ead437559</td>\n",
       "      <td>Cogs</td>\n",
       "      <td>test brand @1612366146051</td>\n",
       "      <td>false</td>\n",
       "      <td>TEST BRANDCODE @1612366146051</td>\n",
       "    </tr>\n",
       "    <tr>\n",
       "      <th>4</th>\n",
       "      <td>601ac142be37ce2ead43755e</td>\n",
       "      <td>511111319917</td>\n",
       "      <td>Candy &amp; Sweets</td>\n",
       "      <td>CANDY_AND_SWEETS</td>\n",
       "      <td>5332fa12e4b03c9a25efd1e7</td>\n",
       "      <td>Cogs</td>\n",
       "      <td>test brand @1612366146827</td>\n",
       "      <td>false</td>\n",
       "      <td>TEST BRANDCODE @1612366146827</td>\n",
       "    </tr>\n",
       "    <tr>\n",
       "      <th>...</th>\n",
       "      <td>...</td>\n",
       "      <td>...</td>\n",
       "      <td>...</td>\n",
       "      <td>...</td>\n",
       "      <td>...</td>\n",
       "      <td>...</td>\n",
       "      <td>...</td>\n",
       "      <td>...</td>\n",
       "      <td>...</td>\n",
       "    </tr>\n",
       "    <tr>\n",
       "      <th>1162</th>\n",
       "      <td>5f77274dbe37ce6b592e90c0</td>\n",
       "      <td>511111116752</td>\n",
       "      <td>Baking</td>\n",
       "      <td>BAKING</td>\n",
       "      <td>5f77274dbe37ce6b592e90bf</td>\n",
       "      <td>Cogs</td>\n",
       "      <td>test brand @1601644365844</td>\n",
       "      <td>\"\"</td>\n",
       "      <td>\"\"</td>\n",
       "    </tr>\n",
       "    <tr>\n",
       "      <th>1163</th>\n",
       "      <td>5dc1fca91dda2c0ad7da64ae</td>\n",
       "      <td>511111706328</td>\n",
       "      <td>Breakfast &amp; Cereal</td>\n",
       "      <td>\"\"</td>\n",
       "      <td>53e10d6368abd3c7065097cc</td>\n",
       "      <td>Cogs</td>\n",
       "      <td>Dippin Dots® Cereal</td>\n",
       "      <td>\"\"</td>\n",
       "      <td>DIPPIN DOTS CEREAL</td>\n",
       "    </tr>\n",
       "    <tr>\n",
       "      <th>1164</th>\n",
       "      <td>5f494c6e04db711dd8fe87e7</td>\n",
       "      <td>511111416173</td>\n",
       "      <td>Candy &amp; Sweets</td>\n",
       "      <td>CANDY_AND_SWEETS</td>\n",
       "      <td>5332fa12e4b03c9a25efd1e7</td>\n",
       "      <td>Cogs</td>\n",
       "      <td>test brand @1598639215217</td>\n",
       "      <td>\"\"</td>\n",
       "      <td>TEST BRANDCODE @1598639215217</td>\n",
       "    </tr>\n",
       "    <tr>\n",
       "      <th>1165</th>\n",
       "      <td>5a021611e4b00efe02b02a57</td>\n",
       "      <td>511111400608</td>\n",
       "      <td>Grocery</td>\n",
       "      <td>\"\"</td>\n",
       "      <td>5332f5f6e4b03c9a25efd0b4</td>\n",
       "      <td>Cogs</td>\n",
       "      <td>LIPTON TEA Leaves</td>\n",
       "      <td>false</td>\n",
       "      <td>LIPTON TEA Leaves</td>\n",
       "    </tr>\n",
       "    <tr>\n",
       "      <th>1166</th>\n",
       "      <td>6026d757be37ce6369301468</td>\n",
       "      <td>511111019930</td>\n",
       "      <td>Baking</td>\n",
       "      <td>BAKING</td>\n",
       "      <td>6026d757be37ce6369301467</td>\n",
       "      <td>Cogs</td>\n",
       "      <td>test brand @1613158231643</td>\n",
       "      <td>false</td>\n",
       "      <td>TEST BRANDCODE @1613158231644</td>\n",
       "    </tr>\n",
       "  </tbody>\n",
       "</table>\n",
       "<p>1167 rows × 9 columns</p>\n",
       "</div>"
      ],
      "text/plain": [
       "                      _id.$oid       barcode            category  \\\n",
       "0     601ac115be37ce2ead437551  511111019862              Baking   \n",
       "1     601c5460be37ce2ead43755f  511111519928           Beverages   \n",
       "2     601ac142be37ce2ead43755d  511111819905              Baking   \n",
       "3     601ac142be37ce2ead43755a  511111519874              Baking   \n",
       "4     601ac142be37ce2ead43755e  511111319917      Candy & Sweets   \n",
       "...                        ...           ...                 ...   \n",
       "1162  5f77274dbe37ce6b592e90c0  511111116752              Baking   \n",
       "1163  5dc1fca91dda2c0ad7da64ae  511111706328  Breakfast & Cereal   \n",
       "1164  5f494c6e04db711dd8fe87e7  511111416173      Candy & Sweets   \n",
       "1165  5a021611e4b00efe02b02a57  511111400608             Grocery   \n",
       "1166  6026d757be37ce6369301468  511111019930              Baking   \n",
       "\n",
       "          categoryCode              cpg.$id.$oid cpg.$ref  \\\n",
       "0               BAKING  601ac114be37ce2ead437550     Cogs   \n",
       "1            BEVERAGES  5332f5fbe4b03c9a25efd0ba     Cogs   \n",
       "2               BAKING  601ac142be37ce2ead437559     Cogs   \n",
       "3               BAKING  601ac142be37ce2ead437559     Cogs   \n",
       "4     CANDY_AND_SWEETS  5332fa12e4b03c9a25efd1e7     Cogs   \n",
       "...                ...                       ...      ...   \n",
       "1162            BAKING  5f77274dbe37ce6b592e90bf     Cogs   \n",
       "1163                \"\"  53e10d6368abd3c7065097cc     Cogs   \n",
       "1164  CANDY_AND_SWEETS  5332fa12e4b03c9a25efd1e7     Cogs   \n",
       "1165                \"\"  5332f5f6e4b03c9a25efd0b4     Cogs   \n",
       "1166            BAKING  6026d757be37ce6369301467     Cogs   \n",
       "\n",
       "                           name topBrand                      brandCode  \n",
       "0     test brand @1612366101024    false                             \"\"  \n",
       "1                     Starbucks    false                      STARBUCKS  \n",
       "2     test brand @1612366146176    false  TEST BRANDCODE @1612366146176  \n",
       "3     test brand @1612366146051    false  TEST BRANDCODE @1612366146051  \n",
       "4     test brand @1612366146827    false  TEST BRANDCODE @1612366146827  \n",
       "...                         ...      ...                            ...  \n",
       "1162  test brand @1601644365844       \"\"                             \"\"  \n",
       "1163        Dippin Dots® Cereal       \"\"             DIPPIN DOTS CEREAL  \n",
       "1164  test brand @1598639215217       \"\"  TEST BRANDCODE @1598639215217  \n",
       "1165          LIPTON TEA Leaves    false              LIPTON TEA Leaves  \n",
       "1166  test brand @1613158231643    false  TEST BRANDCODE @1613158231644  \n",
       "\n",
       "[1167 rows x 9 columns]"
      ]
     },
     "execution_count": 38,
     "metadata": {},
     "output_type": "execute_result"
    }
   ],
   "source": [
    "brands"
   ]
  },
  {
   "cell_type": "code",
   "execution_count": 37,
   "metadata": {},
   "outputs": [
    {
     "data": {
      "text/plain": [
       "\"\"       612\n",
       "false    524\n",
       "true      31\n",
       "Name: topBrand, dtype: int64"
      ]
     },
     "execution_count": 37,
     "metadata": {},
     "output_type": "execute_result"
    }
   ],
   "source": [
    "brands[\"topBrand\"].value_counts()"
   ]
  },
  {
   "cell_type": "markdown",
   "metadata": {},
   "source": [
    "The topBrand column has \"612\" values which are stored as \"\"(empty values) and datatype should be Boolean\n",
    "For this column around 52% of the data is missing which is a major concern"
   ]
  },
  {
   "cell_type": "code",
   "execution_count": 40,
   "metadata": {},
   "outputs": [
    {
     "data": {
      "text/plain": [
       "\"\"                               234\n",
       "HUGGIES                            2\n",
       "GOODNITES                          2\n",
       "PURE BLISS                         1\n",
       "TEST BRANDCODE @1602694020787      1\n",
       "                                ... \n",
       "WHEATIES                           1\n",
       "FREIHOFERS                         1\n",
       "OVEN FRY                           1\n",
       "MAISER'S                           1\n",
       "TEST BRANDCODE @1610562208680      1\n",
       "Name: brandCode, Length: 897, dtype: int64"
      ]
     },
     "execution_count": 40,
     "metadata": {},
     "output_type": "execute_result"
    }
   ],
   "source": [
    "brands[\"brandCode\"].value_counts()"
   ]
  },
  {
   "cell_type": "markdown",
   "metadata": {},
   "source": [
    "The brandCode column has \"234\" values which are stored as \"\"(empty values) and datatype should be Boolean"
   ]
  },
  {
   "cell_type": "markdown",
   "metadata": {},
   "source": [
    "# Receipts"
   ]
  },
  {
   "cell_type": "markdown",
   "metadata": {},
   "source": [
    "receipts = pd.read_csv(\"receipts.csv\")"
   ]
  },
  {
   "cell_type": "code",
   "execution_count": 10,
   "metadata": {},
   "outputs": [
    {
     "data": {
      "text/html": [
       "<div>\n",
       "<style scoped>\n",
       "    .dataframe tbody tr th:only-of-type {\n",
       "        vertical-align: middle;\n",
       "    }\n",
       "\n",
       "    .dataframe tbody tr th {\n",
       "        vertical-align: top;\n",
       "    }\n",
       "\n",
       "    .dataframe thead th {\n",
       "        text-align: right;\n",
       "    }\n",
       "</style>\n",
       "<table border=\"1\" class=\"dataframe\">\n",
       "  <thead>\n",
       "    <tr style=\"text-align: right;\">\n",
       "      <th></th>\n",
       "      <th>_id.$oid</th>\n",
       "      <th>bonusPointsEarned</th>\n",
       "      <th>bonusPointsEarnedReason</th>\n",
       "      <th>createDate.$date</th>\n",
       "      <th>dateScanned.$date</th>\n",
       "      <th>finishedDate.$date</th>\n",
       "      <th>modifyDate.$date</th>\n",
       "      <th>pointsAwardedDate.$date</th>\n",
       "      <th>pointsEarned</th>\n",
       "      <th>purchaseDate.$date</th>\n",
       "      <th>purchasedItemCount</th>\n",
       "      <th>rewardsReceiptItemList</th>\n",
       "      <th>rewardsReceiptStatus</th>\n",
       "      <th>totalSpent</th>\n",
       "      <th>userId</th>\n",
       "    </tr>\n",
       "  </thead>\n",
       "  <tbody>\n",
       "    <tr>\n",
       "      <th>0</th>\n",
       "      <td>5ff1e1eb0a720f0523000575</td>\n",
       "      <td>500</td>\n",
       "      <td>Receipt number 2 completed, bonus point schedu...</td>\n",
       "      <td>1609687531000</td>\n",
       "      <td>1609687531000</td>\n",
       "      <td>1609687531000</td>\n",
       "      <td>1609687536000</td>\n",
       "      <td>1609687531000</td>\n",
       "      <td>500.0</td>\n",
       "      <td>1609632000000</td>\n",
       "      <td>5</td>\n",
       "      <td>[{\"barcode\":\"4011\",\"description\":\"ITEM NOT FOU...</td>\n",
       "      <td>FINISHED</td>\n",
       "      <td>26.00</td>\n",
       "      <td>5ff1e1eacfcf6c399c274ae6</td>\n",
       "    </tr>\n",
       "    <tr>\n",
       "      <th>1</th>\n",
       "      <td>5ff1e1bb0a720f052300056b</td>\n",
       "      <td>150</td>\n",
       "      <td>Receipt number 5 completed, bonus point schedu...</td>\n",
       "      <td>1609687483000</td>\n",
       "      <td>1609687483000</td>\n",
       "      <td>1609687483000</td>\n",
       "      <td>1609687488000</td>\n",
       "      <td>1609687483000</td>\n",
       "      <td>150.0</td>\n",
       "      <td>1609601083000</td>\n",
       "      <td>2</td>\n",
       "      <td>[{\"barcode\":\"4011\",\"description\":\"ITEM NOT FOU...</td>\n",
       "      <td>FINISHED</td>\n",
       "      <td>11.00</td>\n",
       "      <td>5ff1e194b6a9d73a3a9f1052</td>\n",
       "    </tr>\n",
       "    <tr>\n",
       "      <th>2</th>\n",
       "      <td>5ff1e1f10a720f052300057a</td>\n",
       "      <td>5</td>\n",
       "      <td>All-receipts receipt bonus</td>\n",
       "      <td>1609687537000</td>\n",
       "      <td>1609687537000</td>\n",
       "      <td>\"\"</td>\n",
       "      <td>1609687542000</td>\n",
       "      <td>\"\"</td>\n",
       "      <td>5</td>\n",
       "      <td>1609632000000</td>\n",
       "      <td>1</td>\n",
       "      <td>[{\"needsFetchReview\":false,\"partnerItemId\":\"1\"...</td>\n",
       "      <td>REJECTED</td>\n",
       "      <td>10.00</td>\n",
       "      <td>5ff1e1f1cfcf6c399c274b0b</td>\n",
       "    </tr>\n",
       "    <tr>\n",
       "      <th>3</th>\n",
       "      <td>5ff1e1ee0a7214ada100056f</td>\n",
       "      <td>5</td>\n",
       "      <td>All-receipts receipt bonus</td>\n",
       "      <td>1609687534000</td>\n",
       "      <td>1609687534000</td>\n",
       "      <td>1609687534000</td>\n",
       "      <td>1609687539000</td>\n",
       "      <td>1609687534000</td>\n",
       "      <td>5.0</td>\n",
       "      <td>1609632000000</td>\n",
       "      <td>4</td>\n",
       "      <td>[{\"barcode\":\"4011\",\"description\":\"ITEM NOT FOU...</td>\n",
       "      <td>FINISHED</td>\n",
       "      <td>28.00</td>\n",
       "      <td>5ff1e1eacfcf6c399c274ae6</td>\n",
       "    </tr>\n",
       "    <tr>\n",
       "      <th>4</th>\n",
       "      <td>5ff1e1d20a7214ada1000561</td>\n",
       "      <td>5</td>\n",
       "      <td>All-receipts receipt bonus</td>\n",
       "      <td>1609687506000</td>\n",
       "      <td>1609687506000</td>\n",
       "      <td>1609687511000</td>\n",
       "      <td>1609687511000</td>\n",
       "      <td>1609687506000</td>\n",
       "      <td>5.0</td>\n",
       "      <td>1609601106000</td>\n",
       "      <td>2</td>\n",
       "      <td>[{\"barcode\":\"4011\",\"description\":\"ITEM NOT FOU...</td>\n",
       "      <td>FINISHED</td>\n",
       "      <td>1.00</td>\n",
       "      <td>5ff1e194b6a9d73a3a9f1052</td>\n",
       "    </tr>\n",
       "    <tr>\n",
       "      <th>...</th>\n",
       "      <td>...</td>\n",
       "      <td>...</td>\n",
       "      <td>...</td>\n",
       "      <td>...</td>\n",
       "      <td>...</td>\n",
       "      <td>...</td>\n",
       "      <td>...</td>\n",
       "      <td>...</td>\n",
       "      <td>...</td>\n",
       "      <td>...</td>\n",
       "      <td>...</td>\n",
       "      <td>...</td>\n",
       "      <td>...</td>\n",
       "      <td>...</td>\n",
       "      <td>...</td>\n",
       "    </tr>\n",
       "    <tr>\n",
       "      <th>1114</th>\n",
       "      <td>603cc0630a720fde100003e6</td>\n",
       "      <td>25</td>\n",
       "      <td>COMPLETE_NONPARTNER_RECEIPT</td>\n",
       "      <td>1614594147000</td>\n",
       "      <td>1614594147000</td>\n",
       "      <td>\"\"</td>\n",
       "      <td>1614594148000</td>\n",
       "      <td>\"\"</td>\n",
       "      <td>25.0</td>\n",
       "      <td>1597622400000</td>\n",
       "      <td>2</td>\n",
       "      <td>[{\"barcode\":\"B076FJ92M4\",\"description\":\"muelle...</td>\n",
       "      <td>REJECTED</td>\n",
       "      <td>34.96</td>\n",
       "      <td>5fc961c3b8cfca11a077dd33</td>\n",
       "    </tr>\n",
       "    <tr>\n",
       "      <th>1115</th>\n",
       "      <td>603d0b710a720fde1000042a</td>\n",
       "      <td>\"\"</td>\n",
       "      <td>\"\"</td>\n",
       "      <td>1614613361873</td>\n",
       "      <td>1614613361873</td>\n",
       "      <td>\"\"</td>\n",
       "      <td>1614613361873</td>\n",
       "      <td>\"\"</td>\n",
       "      <td>\"\"</td>\n",
       "      <td>\"\"</td>\n",
       "      <td>\"\"</td>\n",
       "      <td>\"\"</td>\n",
       "      <td>SUBMITTED</td>\n",
       "      <td>\"\"</td>\n",
       "      <td>5fc961c3b8cfca11a077dd33</td>\n",
       "    </tr>\n",
       "    <tr>\n",
       "      <th>1116</th>\n",
       "      <td>603cf5290a720fde10000413</td>\n",
       "      <td>\"\"</td>\n",
       "      <td>\"\"</td>\n",
       "      <td>1614607657664</td>\n",
       "      <td>1614607657664</td>\n",
       "      <td>\"\"</td>\n",
       "      <td>1614607657664</td>\n",
       "      <td>\"\"</td>\n",
       "      <td>\"\"</td>\n",
       "      <td>\"\"</td>\n",
       "      <td>\"\"</td>\n",
       "      <td>\"\"</td>\n",
       "      <td>SUBMITTED</td>\n",
       "      <td>\"\"</td>\n",
       "      <td>5fc961c3b8cfca11a077dd33</td>\n",
       "    </tr>\n",
       "    <tr>\n",
       "      <th>1117</th>\n",
       "      <td>603ce7100a7217c72c000405</td>\n",
       "      <td>25</td>\n",
       "      <td>COMPLETE_NONPARTNER_RECEIPT</td>\n",
       "      <td>1614604048000</td>\n",
       "      <td>1614604048000</td>\n",
       "      <td>\"\"</td>\n",
       "      <td>1614604049000</td>\n",
       "      <td>\"\"</td>\n",
       "      <td>25.0</td>\n",
       "      <td>1597622400000</td>\n",
       "      <td>2</td>\n",
       "      <td>[{\"barcode\":\"B076FJ92M4\",\"description\":\"muelle...</td>\n",
       "      <td>REJECTED</td>\n",
       "      <td>34.96</td>\n",
       "      <td>5fc961c3b8cfca11a077dd33</td>\n",
       "    </tr>\n",
       "    <tr>\n",
       "      <th>1118</th>\n",
       "      <td>603c4fea0a7217c72c000389</td>\n",
       "      <td>\"\"</td>\n",
       "      <td>\"\"</td>\n",
       "      <td>1614565354962</td>\n",
       "      <td>1614565354962</td>\n",
       "      <td>\"\"</td>\n",
       "      <td>1614565354962</td>\n",
       "      <td>\"\"</td>\n",
       "      <td>\"\"</td>\n",
       "      <td>\"\"</td>\n",
       "      <td>\"\"</td>\n",
       "      <td>\"\"</td>\n",
       "      <td>SUBMITTED</td>\n",
       "      <td>\"\"</td>\n",
       "      <td>5fc961c3b8cfca11a077dd33</td>\n",
       "    </tr>\n",
       "  </tbody>\n",
       "</table>\n",
       "<p>1119 rows × 15 columns</p>\n",
       "</div>"
      ],
      "text/plain": [
       "                      _id.$oid bonusPointsEarned  \\\n",
       "0     5ff1e1eb0a720f0523000575               500   \n",
       "1     5ff1e1bb0a720f052300056b               150   \n",
       "2     5ff1e1f10a720f052300057a                 5   \n",
       "3     5ff1e1ee0a7214ada100056f                 5   \n",
       "4     5ff1e1d20a7214ada1000561                 5   \n",
       "...                        ...               ...   \n",
       "1114  603cc0630a720fde100003e6                25   \n",
       "1115  603d0b710a720fde1000042a                \"\"   \n",
       "1116  603cf5290a720fde10000413                \"\"   \n",
       "1117  603ce7100a7217c72c000405                25   \n",
       "1118  603c4fea0a7217c72c000389                \"\"   \n",
       "\n",
       "                                bonusPointsEarnedReason  createDate.$date  \\\n",
       "0     Receipt number 2 completed, bonus point schedu...     1609687531000   \n",
       "1     Receipt number 5 completed, bonus point schedu...     1609687483000   \n",
       "2                            All-receipts receipt bonus     1609687537000   \n",
       "3                            All-receipts receipt bonus     1609687534000   \n",
       "4                            All-receipts receipt bonus     1609687506000   \n",
       "...                                                 ...               ...   \n",
       "1114                        COMPLETE_NONPARTNER_RECEIPT     1614594147000   \n",
       "1115                                                 \"\"     1614613361873   \n",
       "1116                                                 \"\"     1614607657664   \n",
       "1117                        COMPLETE_NONPARTNER_RECEIPT     1614604048000   \n",
       "1118                                                 \"\"     1614565354962   \n",
       "\n",
       "      dateScanned.$date finishedDate.$date  modifyDate.$date  \\\n",
       "0         1609687531000      1609687531000     1609687536000   \n",
       "1         1609687483000      1609687483000     1609687488000   \n",
       "2         1609687537000                 \"\"     1609687542000   \n",
       "3         1609687534000      1609687534000     1609687539000   \n",
       "4         1609687506000      1609687511000     1609687511000   \n",
       "...                 ...                ...               ...   \n",
       "1114      1614594147000                 \"\"     1614594148000   \n",
       "1115      1614613361873                 \"\"     1614613361873   \n",
       "1116      1614607657664                 \"\"     1614607657664   \n",
       "1117      1614604048000                 \"\"     1614604049000   \n",
       "1118      1614565354962                 \"\"     1614565354962   \n",
       "\n",
       "     pointsAwardedDate.$date pointsEarned purchaseDate.$date  \\\n",
       "0              1609687531000        500.0      1609632000000   \n",
       "1              1609687483000        150.0      1609601083000   \n",
       "2                         \"\"            5      1609632000000   \n",
       "3              1609687534000          5.0      1609632000000   \n",
       "4              1609687506000          5.0      1609601106000   \n",
       "...                      ...          ...                ...   \n",
       "1114                      \"\"         25.0      1597622400000   \n",
       "1115                      \"\"           \"\"                 \"\"   \n",
       "1116                      \"\"           \"\"                 \"\"   \n",
       "1117                      \"\"         25.0      1597622400000   \n",
       "1118                      \"\"           \"\"                 \"\"   \n",
       "\n",
       "     purchasedItemCount                             rewardsReceiptItemList  \\\n",
       "0                     5  [{\"barcode\":\"4011\",\"description\":\"ITEM NOT FOU...   \n",
       "1                     2  [{\"barcode\":\"4011\",\"description\":\"ITEM NOT FOU...   \n",
       "2                     1  [{\"needsFetchReview\":false,\"partnerItemId\":\"1\"...   \n",
       "3                     4  [{\"barcode\":\"4011\",\"description\":\"ITEM NOT FOU...   \n",
       "4                     2  [{\"barcode\":\"4011\",\"description\":\"ITEM NOT FOU...   \n",
       "...                 ...                                                ...   \n",
       "1114                  2  [{\"barcode\":\"B076FJ92M4\",\"description\":\"muelle...   \n",
       "1115                 \"\"                                                 \"\"   \n",
       "1116                 \"\"                                                 \"\"   \n",
       "1117                  2  [{\"barcode\":\"B076FJ92M4\",\"description\":\"muelle...   \n",
       "1118                 \"\"                                                 \"\"   \n",
       "\n",
       "     rewardsReceiptStatus totalSpent                    userId  \n",
       "0                FINISHED      26.00  5ff1e1eacfcf6c399c274ae6  \n",
       "1                FINISHED      11.00  5ff1e194b6a9d73a3a9f1052  \n",
       "2                REJECTED      10.00  5ff1e1f1cfcf6c399c274b0b  \n",
       "3                FINISHED      28.00  5ff1e1eacfcf6c399c274ae6  \n",
       "4                FINISHED       1.00  5ff1e194b6a9d73a3a9f1052  \n",
       "...                   ...        ...                       ...  \n",
       "1114             REJECTED      34.96  5fc961c3b8cfca11a077dd33  \n",
       "1115            SUBMITTED         \"\"  5fc961c3b8cfca11a077dd33  \n",
       "1116            SUBMITTED         \"\"  5fc961c3b8cfca11a077dd33  \n",
       "1117             REJECTED      34.96  5fc961c3b8cfca11a077dd33  \n",
       "1118            SUBMITTED         \"\"  5fc961c3b8cfca11a077dd33  \n",
       "\n",
       "[1119 rows x 15 columns]"
      ]
     },
     "execution_count": 10,
     "metadata": {},
     "output_type": "execute_result"
    }
   ],
   "source": [
    "receipts"
   ]
  },
  {
   "cell_type": "code",
   "execution_count": 41,
   "metadata": {},
   "outputs": [
    {
     "name": "stdout",
     "output_type": "stream",
     "text": [
      "<class 'pandas.core.frame.DataFrame'>\n",
      "RangeIndex: 1119 entries, 0 to 1118\n",
      "Data columns (total 15 columns):\n",
      " #   Column                   Non-Null Count  Dtype \n",
      "---  ------                   --------------  ----- \n",
      " 0   _id.$oid                 1119 non-null   object\n",
      " 1   bonusPointsEarned        1119 non-null   object\n",
      " 2   bonusPointsEarnedReason  1119 non-null   object\n",
      " 3   createDate.$date         1119 non-null   int64 \n",
      " 4   dateScanned.$date        1119 non-null   int64 \n",
      " 5   finishedDate.$date       1119 non-null   object\n",
      " 6   modifyDate.$date         1119 non-null   int64 \n",
      " 7   pointsAwardedDate.$date  1119 non-null   object\n",
      " 8   pointsEarned             1119 non-null   object\n",
      " 9   purchaseDate.$date       1119 non-null   object\n",
      " 10  purchasedItemCount       1119 non-null   object\n",
      " 11  rewardsReceiptItemList   1119 non-null   object\n",
      " 12  rewardsReceiptStatus     1119 non-null   object\n",
      " 13  totalSpent               1119 non-null   object\n",
      " 14  userId                   1119 non-null   object\n",
      "dtypes: int64(3), object(12)\n",
      "memory usage: 131.3+ KB\n"
     ]
    }
   ],
   "source": [
    "receipts.info()"
   ]
  },
  {
   "cell_type": "code",
   "execution_count": 23,
   "metadata": {},
   "outputs": [
    {
     "data": {
      "text/plain": [
       "\"\"     575\n",
       "5      183\n",
       "750    119\n",
       "25      71\n",
       "250     31\n",
       "45      31\n",
       "500     30\n",
       "150     27\n",
       "300     26\n",
       "100     18\n",
       "27       6\n",
       "21       1\n",
       "40       1\n",
       "Name: bonusPointsEarned, dtype: int64"
      ]
     },
     "execution_count": 23,
     "metadata": {},
     "output_type": "execute_result"
    }
   ],
   "source": [
    "receipts['bonusPointsEarned'].value_counts()"
   ]
  },
  {
   "cell_type": "markdown",
   "metadata": {},
   "source": [
    "The bonusPointsEarned column has \"575\" values which are stored as \"\"(empty values) "
   ]
  },
  {
   "cell_type": "code",
   "execution_count": 24,
   "metadata": {},
   "outputs": [
    {
     "data": {
      "text/plain": [
       "\"\"                                                                                     575\n",
       "All-receipts receipt bonus                                                             183\n",
       "Receipt number 1 completed, bonus point schedule DEFAULT (5cefdcacf3693e0b50e83a36)    119\n",
       "COMPLETE_NONPARTNER_RECEIPT                                                             71\n",
       "COMPLETE_PARTNER_RECEIPT                                                                39\n",
       "Receipt number 3 completed, bonus point schedule DEFAULT (5cefdcacf3693e0b50e83a36)     31\n",
       "Receipt number 2 completed, bonus point schedule DEFAULT (5cefdcacf3693e0b50e83a36)     30\n",
       "Receipt number 5 completed, bonus point schedule DEFAULT (5cefdcacf3693e0b50e83a36)     27\n",
       "Receipt number 4 completed, bonus point schedule DEFAULT (5cefdcacf3693e0b50e83a36)     26\n",
       "Receipt number 6 completed, bonus point schedule DEFAULT (5cefdcacf3693e0b50e83a36)     18\n",
       "Name: bonusPointsEarnedReason, dtype: int64"
      ]
     },
     "execution_count": 24,
     "metadata": {},
     "output_type": "execute_result"
    }
   ],
   "source": [
    "receipts['bonusPointsEarnedReason'].value_counts()"
   ]
  },
  {
   "cell_type": "markdown",
   "metadata": {},
   "source": [
    "The bonusPointsEarnedReason column has \"575\" values which are stored as \"\"(empty values) "
   ]
  },
  {
   "cell_type": "markdown",
   "metadata": {},
   "source": [
    "# Data quality Issues"
   ]
  },
  {
   "cell_type": "markdown",
   "metadata": {},
   "source": [
    "I performed Exploratory Data Analysis on the three datasets and found the following data quality issues\n",
    "1. There are many null values in the dataset which contributes around 33% to 52% of total data. For dataset of small size,\n",
    "   it is alarming to have null values in majority and these issues has to be addressed, decisions has to be taken to deal with\n",
    "   the missing values\n",
    "2.The datatype are not correct(i. For dates the datatypes is int but it has to be Date ii. Boolean columns has datatypes as int)\n",
    "3. Values in Date columns are incorrect, the data should be in format YYYY-MM-DD or MM-DD-YYYY \n",
    "4. Some columns have \"\" as values which are to be considered as null values"
   ]
  }
 ],
 "metadata": {
  "kernelspec": {
   "display_name": "Python 3",
   "language": "python",
   "name": "python3"
  },
  "language_info": {
   "codemirror_mode": {
    "name": "ipython",
    "version": 3
   },
   "file_extension": ".py",
   "mimetype": "text/x-python",
   "name": "python",
   "nbconvert_exporter": "python",
   "pygments_lexer": "ipython3",
   "version": "3.7.6"
  }
 },
 "nbformat": 4,
 "nbformat_minor": 4
}
